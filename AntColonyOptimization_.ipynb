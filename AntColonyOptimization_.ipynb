{
  "nbformat": 4,
  "nbformat_minor": 0,
  "metadata": {
    "colab": {
      "name": "AntColonyOptimization_.ipynb",
      "provenance": [],
      "collapsed_sections": []
    },
    "kernelspec": {
      "name": "python3",
      "display_name": "Python 3"
    },
    "language_info": {
      "name": "python"
    }
  },
  "cells": [
    {
      "cell_type": "code",
      "execution_count": 14,
      "metadata": {
        "id": "5Fje5Q80wX1C"
      },
      "outputs": [],
      "source": [
        "import numpy as np\n",
        "from numpy import inf\n",
        "\n",
        "d = np.array([[3, 5, 3, 6, 9]\n",
        "              ,[8, 1, 2, 4, 2]\n",
        "              ,[3, 6, 9, 8, 3]\n",
        "              ,[1, 2, 4, 2, 3]\n",
        "              ,[3, 5, 2, 4, 2]\n",
        "              ,[1, 9, 1, 7, 9]])\n",
        "\n",
        "iteration = 100\n",
        "n_ants = 5\n",
        "n_citys = 5"
      ]
    },
    {
      "cell_type": "code",
      "source": [
        "m = n_ants\n",
        "n = n_citys\n",
        "e = .5\n",
        "alpha = 1\n",
        "beta = 2\n",
        "\n"
      ],
      "metadata": {
        "id": "Kjczb747ysDp"
      },
      "execution_count": 15,
      "outputs": []
    },
    {
      "cell_type": "code",
      "source": [
        "visibility = 1/d\n",
        "visibility[visibility == inf] = 0"
      ],
      "metadata": {
        "id": "RFujvYQtzBij"
      },
      "execution_count": 16,
      "outputs": []
    },
    {
      "cell_type": "code",
      "source": [
        "pheromne = .1 * np.ones((m, n))\n",
        "\n",
        "rute = np.ones((m, n + 1))"
      ],
      "metadata": {
        "id": "d1H-Njq_zO9F"
      },
      "execution_count": 17,
      "outputs": []
    },
    {
      "cell_type": "code",
      "source": [
        "for ite in range(iteration):\n",
        "\n",
        "    rute[:, 0] = 1\n",
        "\n",
        "    for i in range(m):\n",
        "\n",
        "        temp_visibility = np.array(visibility)\n",
        "\n",
        "        for j in range(n - 1):\n",
        "            combine_feature = np.zeros(5)\n",
        "            cum_prob = np.zeros(5)\n",
        "\n",
        "            cur_loc = int(rute[i, j] - 1)\n",
        "\n",
        "            temp_visibility[:, cur_loc] = 0\n",
        "\n",
        "            p_feature = np.power(pheromne[cur_loc, :], beta)\n",
        "            v_feature = np.power(temp_visibility[cur_loc, :], alpha)\n",
        "\n",
        "            p_feature = p_feature[:, np.newaxis]\n",
        "            v_feature = v_feature[:, np.newaxis]\n",
        "\n",
        "            combine_feature = np.multiply(p_feature, v_feature)\n",
        "\n",
        "            total = np.sum(combine_feature)\n",
        "\n",
        "            probs = combine_feature / total\n",
        "\n",
        "            cum_prob = np.cumsum(probs)\n",
        "            r = np.random.random_sample()\n",
        "            city = np.nonzero(cum_prob > r)[0][0] + 1\n",
        "\n",
        "            rute[i, j + 1] = city\n",
        "\n",
        "        left = list(set([i for i in range(1, n + 1)]) - set(rute[i, :-2]))[0]\n",
        "\n",
        "        rute[i, -2] = left\n",
        "\n",
        "    rute_opt = np.array(rute)\n",
        "\n",
        "    dist_cost = np.zeros((m, 1))\n",
        "\n",
        "    for i in range(m):\n",
        "\n",
        "        s = 0\n",
        "        for j in range(n - 1):\n",
        "            s = s + d[int(rute_opt[i, j]) - 1, int(rute_opt[i, j + 1]) - 1]\n",
        "\n",
        "        dist_cost[i] = s\n",
        "\n",
        "    dist_min_loc = np.argmin(dist_cost)\n",
        "    dist_min_cost = dist_cost[dist_min_loc]\n",
        "\n",
        "    best_route = rute[dist_min_loc, :]\n",
        "    pheromne = (1 - e) * pheromne\n",
        "\n",
        "    for i in range(m):\n",
        "        for j in range(n - 1):\n",
        "            dt = 1 / dist_cost[i]\n",
        "            pheromne[int(rute_opt[i, j]) - 1, int(rute_opt[i, j + 1]) - 1] = pheromne[int(rute_opt[i, j]) - 1, int(\n",
        "                rute_opt[i, j + 1]) - 1] + dt\n",
        "\n",
        "print('route of all the ants at the end :')\n",
        "print(rute_opt)\n",
        "print()\n",
        "print('best path :', best_route)\n",
        "print('cost of the best path', int(dist_min_cost[0]) + d[int(best_route[-2]) - 1, 0])\n",
        "   \n",
        "\n",
        "            \n",
        "            \n",
        "            "
      ],
      "metadata": {
        "colab": {
          "base_uri": "https://localhost:8080/"
        },
        "id": "QVHc4j1E1uU2",
        "outputId": "f8f20a2b-c02f-4138-dc2e-fede9f6f798c"
      },
      "execution_count": 18,
      "outputs": [
        {
          "output_type": "stream",
          "name": "stdout",
          "text": [
            "route of all the ants at the end :\n",
            "[[1. 3. 5. 4. 2. 1.]\n",
            " [1. 3. 5. 4. 2. 1.]\n",
            " [1. 3. 5. 4. 2. 1.]\n",
            " [1. 3. 5. 4. 2. 1.]\n",
            " [1. 3. 5. 4. 2. 1.]]\n",
            "\n",
            "best path : [1. 3. 5. 4. 2. 1.]\n",
            "cost of the best path 20\n"
          ]
        }
      ]
    }
  ]
}